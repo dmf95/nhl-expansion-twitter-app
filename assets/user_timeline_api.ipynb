{
 "metadata": {
  "language_info": {
   "codemirror_mode": {
    "name": "ipython",
    "version": 3
   },
   "file_extension": ".py",
   "mimetype": "text/x-python",
   "name": "python",
   "nbconvert_exporter": "python",
   "pygments_lexer": "ipython3",
   "version": "3.7.9"
  },
  "orig_nbformat": 4,
  "kernelspec": {
   "name": "python3",
   "display_name": "Python 3.7.9 64-bit"
  },
  "interpreter": {
   "hash": "5406984f2edc0bdbc5cd7a494452e0fdfab4d1a2e1a90c33da82353fb1ebad85"
  }
 },
 "nbformat": 4,
 "nbformat_minor": 2,
 "cells": [
  {
   "cell_type": "code",
   "execution_count": 80,
   "metadata": {},
   "outputs": [],
   "source": [
    "import streamlit as st\n",
    "import tweepy as tw\n",
    "import pandas as pd\n",
    "import time"
   ]
  },
  {
   "cell_type": "code",
   "execution_count": 17,
   "metadata": {},
   "outputs": [
    {
     "output_type": "stream",
     "name": "stdout",
     "text": [
      "created_at\nid\nid_str\ntext\ntruncated\nsource\nin_reply_to_status_id\nin_reply_to_status_id_str\nin_reply_to_user_id\nin_reply_to_user_id_str\nin_reply_to_screen_name\ngeo\ncoordinates\nplace\ncontributors\nis_quote_status\nretweet_count\nfavorite_count\nfavorited\nretweeted\nlang\nentities.hashtags\nentities.symbols\nentities.user_mentions\nentities.urls\nuser.id\nuser.id_str\nuser.name\nuser.screen_name\nuser.location\nuser.description\nuser.url\nuser.entities.url.urls\nuser.entities.description.urls\nuser.protected\nuser.followers_count\nuser.friends_count\nuser.listed_count\nuser.created_at\nuser.favourites_count\nuser.utc_offset\nuser.time_zone\nuser.geo_enabled\nuser.verified\nuser.statuses_count\nuser.lang\nuser.contributors_enabled\nuser.is_translator\nuser.is_translation_enabled\nuser.profile_background_color\nuser.profile_background_image_url\nuser.profile_background_image_url_https\nuser.profile_background_tile\nuser.profile_image_url\nuser.profile_image_url_https\nuser.profile_banner_url\nuser.profile_link_color\nuser.profile_sidebar_border_color\nuser.profile_sidebar_fill_color\nuser.profile_text_color\nuser.profile_use_background_image\nuser.has_extended_profile\nuser.default_profile\nuser.default_profile_image\nuser.following\nuser.follow_request_sent\nuser.notifications\nuser.translator_type\nuser.withheld_in_countries\nquoted_status_id\nquoted_status_id_str\npossibly_sensitive\nquoted_status.created_at\nquoted_status.id\nquoted_status.id_str\nquoted_status.text\nquoted_status.truncated\nquoted_status.entities.hashtags\nquoted_status.entities.symbols\nquoted_status.entities.user_mentions\nquoted_status.entities.urls\nquoted_status.source\nquoted_status.in_reply_to_status_id\nquoted_status.in_reply_to_status_id_str\nquoted_status.in_reply_to_user_id\nquoted_status.in_reply_to_user_id_str\nquoted_status.in_reply_to_screen_name\nquoted_status.user.id\nquoted_status.user.id_str\nquoted_status.user.name\nquoted_status.user.screen_name\nquoted_status.user.location\nquoted_status.user.description\nquoted_status.user.url\nquoted_status.user.entities.description.urls\nquoted_status.user.protected\nquoted_status.user.followers_count\nquoted_status.user.friends_count\nquoted_status.user.listed_count\nquoted_status.user.created_at\nquoted_status.user.favourites_count\nquoted_status.user.utc_offset\nquoted_status.user.time_zone\nquoted_status.user.geo_enabled\nquoted_status.user.verified\nquoted_status.user.statuses_count\nquoted_status.user.lang\nquoted_status.user.contributors_enabled\nquoted_status.user.is_translator\nquoted_status.user.is_translation_enabled\nquoted_status.user.profile_background_color\nquoted_status.user.profile_background_image_url\nquoted_status.user.profile_background_image_url_https\nquoted_status.user.profile_background_tile\nquoted_status.user.profile_image_url\nquoted_status.user.profile_image_url_https\nquoted_status.user.profile_banner_url\nquoted_status.user.profile_link_color\nquoted_status.user.profile_sidebar_border_color\nquoted_status.user.profile_sidebar_fill_color\nquoted_status.user.profile_text_color\nquoted_status.user.profile_use_background_image\nquoted_status.user.has_extended_profile\nquoted_status.user.default_profile\nquoted_status.user.default_profile_image\nquoted_status.user.following\nquoted_status.user.follow_request_sent\nquoted_status.user.notifications\nquoted_status.user.translator_type\nquoted_status.user.withheld_in_countries\nquoted_status.geo\nquoted_status.coordinates\nquoted_status.place\nquoted_status.contributors\nquoted_status.is_quote_status\nquoted_status.retweet_count\nquoted_status.favorite_count\nquoted_status.favorited\nquoted_status.retweeted\nquoted_status.lang\nquoted_status.user.entities.url.urls\nquoted_status.possibly_sensitive\nquoted_status.entities.media\nquoted_status.extended_entities.media\nquoted_status.quoted_status_id\nquoted_status.quoted_status_id_str\nretweeted_status.created_at\nretweeted_status.id\nretweeted_status.id_str\nretweeted_status.text\nretweeted_status.truncated\nretweeted_status.entities.hashtags\nretweeted_status.entities.symbols\nretweeted_status.entities.user_mentions\nretweeted_status.entities.urls\nretweeted_status.source\nretweeted_status.in_reply_to_status_id\nretweeted_status.in_reply_to_status_id_str\nretweeted_status.in_reply_to_user_id\nretweeted_status.in_reply_to_user_id_str\nretweeted_status.in_reply_to_screen_name\nretweeted_status.user.id\nretweeted_status.user.id_str\nretweeted_status.user.name\nretweeted_status.user.screen_name\nretweeted_status.user.location\nretweeted_status.user.description\nretweeted_status.user.url\nretweeted_status.user.entities.url.urls\nretweeted_status.user.entities.description.urls\nretweeted_status.user.protected\nretweeted_status.user.followers_count\nretweeted_status.user.friends_count\nretweeted_status.user.listed_count\nretweeted_status.user.created_at\nretweeted_status.user.favourites_count\nretweeted_status.user.utc_offset\nretweeted_status.user.time_zone\nretweeted_status.user.geo_enabled\nretweeted_status.user.verified\nretweeted_status.user.statuses_count\nretweeted_status.user.lang\nretweeted_status.user.contributors_enabled\nretweeted_status.user.is_translator\nretweeted_status.user.is_translation_enabled\nretweeted_status.user.profile_background_color\nretweeted_status.user.profile_background_image_url\nretweeted_status.user.profile_background_image_url_https\nretweeted_status.user.profile_background_tile\nretweeted_status.user.profile_image_url\nretweeted_status.user.profile_image_url_https\nretweeted_status.user.profile_banner_url\nretweeted_status.user.profile_link_color\nretweeted_status.user.profile_sidebar_border_color\nretweeted_status.user.profile_sidebar_fill_color\nretweeted_status.user.profile_text_color\nretweeted_status.user.profile_use_background_image\nretweeted_status.user.has_extended_profile\nretweeted_status.user.default_profile\nretweeted_status.user.default_profile_image\nretweeted_status.user.following\nretweeted_status.user.follow_request_sent\nretweeted_status.user.notifications\nretweeted_status.user.translator_type\nretweeted_status.user.withheld_in_countries\nretweeted_status.geo\nretweeted_status.coordinates\nretweeted_status.place\nretweeted_status.contributors\nretweeted_status.is_quote_status\nretweeted_status.retweet_count\nretweeted_status.favorite_count\nretweeted_status.favorited\nretweeted_status.retweeted\nretweeted_status.possibly_sensitive\nretweeted_status.lang\nentities.media\nextended_entities.media\nretweeted_status.entities.media\nretweeted_status.extended_entities.media\nretweeted_status.quoted_status_id\nretweeted_status.quoted_status_id_str\nretweeted_status.quoted_status.created_at\nretweeted_status.quoted_status.id\nretweeted_status.quoted_status.id_str\nretweeted_status.quoted_status.text\nretweeted_status.quoted_status.truncated\nretweeted_status.quoted_status.entities.hashtags\nretweeted_status.quoted_status.entities.symbols\nretweeted_status.quoted_status.entities.user_mentions\nretweeted_status.quoted_status.entities.urls\nretweeted_status.quoted_status.source\nretweeted_status.quoted_status.in_reply_to_status_id\nretweeted_status.quoted_status.in_reply_to_status_id_str\nretweeted_status.quoted_status.in_reply_to_user_id\nretweeted_status.quoted_status.in_reply_to_user_id_str\nretweeted_status.quoted_status.in_reply_to_screen_name\nretweeted_status.quoted_status.user.id\nretweeted_status.quoted_status.user.id_str\nretweeted_status.quoted_status.user.name\nretweeted_status.quoted_status.user.screen_name\nretweeted_status.quoted_status.user.location\nretweeted_status.quoted_status.user.description\nretweeted_status.quoted_status.user.url\nretweeted_status.quoted_status.user.entities.url.urls\nretweeted_status.quoted_status.user.entities.description.urls\nretweeted_status.quoted_status.user.protected\nretweeted_status.quoted_status.user.followers_count\nretweeted_status.quoted_status.user.friends_count\nretweeted_status.quoted_status.user.listed_count\nretweeted_status.quoted_status.user.created_at\nretweeted_status.quoted_status.user.favourites_count\nretweeted_status.quoted_status.user.utc_offset\nretweeted_status.quoted_status.user.time_zone\nretweeted_status.quoted_status.user.geo_enabled\nretweeted_status.quoted_status.user.verified\nretweeted_status.quoted_status.user.statuses_count\nretweeted_status.quoted_status.user.lang\nretweeted_status.quoted_status.user.contributors_enabled\nretweeted_status.quoted_status.user.is_translator\nretweeted_status.quoted_status.user.is_translation_enabled\nretweeted_status.quoted_status.user.profile_background_color\nretweeted_status.quoted_status.user.profile_background_image_url\nretweeted_status.quoted_status.user.profile_background_image_url_https\nretweeted_status.quoted_status.user.profile_background_tile\nretweeted_status.quoted_status.user.profile_image_url\nretweeted_status.quoted_status.user.profile_image_url_https\nretweeted_status.quoted_status.user.profile_banner_url\nretweeted_status.quoted_status.user.profile_link_color\nretweeted_status.quoted_status.user.profile_sidebar_border_color\nretweeted_status.quoted_status.user.profile_sidebar_fill_color\nretweeted_status.quoted_status.user.profile_text_color\nretweeted_status.quoted_status.user.profile_use_background_image\nretweeted_status.quoted_status.user.has_extended_profile\nretweeted_status.quoted_status.user.default_profile\nretweeted_status.quoted_status.user.default_profile_image\nretweeted_status.quoted_status.user.following\nretweeted_status.quoted_status.user.follow_request_sent\nretweeted_status.quoted_status.user.notifications\nretweeted_status.quoted_status.user.translator_type\nretweeted_status.quoted_status.user.withheld_in_countries\nretweeted_status.quoted_status.geo\nretweeted_status.quoted_status.coordinates\nretweeted_status.quoted_status.place\nretweeted_status.quoted_status.contributors\nretweeted_status.quoted_status.is_quote_status\nretweeted_status.quoted_status.retweet_count\nretweeted_status.quoted_status.favorite_count\nretweeted_status.quoted_status.favorited\nretweeted_status.quoted_status.retweeted\nretweeted_status.quoted_status.lang\nretweeted_status.quoted_status.possibly_sensitive\nretweeted_status.place.id\nretweeted_status.place.url\nretweeted_status.place.place_type\nretweeted_status.place.name\nretweeted_status.place.full_name\nretweeted_status.place.country_code\nretweeted_status.place.country\nretweeted_status.place.contained_within\nretweeted_status.place.bounding_box.type\nretweeted_status.place.bounding_box.coordinates\nretweeted_status.quoted_status.place.id\nretweeted_status.quoted_status.place.url\nretweeted_status.quoted_status.place.place_type\nretweeted_status.quoted_status.place.name\nretweeted_status.quoted_status.place.full_name\nretweeted_status.quoted_status.place.country_code\nretweeted_status.quoted_status.place.country\nretweeted_status.quoted_status.place.contained_within\nretweeted_status.quoted_status.place.bounding_box.type\nretweeted_status.quoted_status.place.bounding_box.coordinates\nquoted_status.place.id\nquoted_status.place.url\nquoted_status.place.place_type\nquoted_status.place.name\nquoted_status.place.full_name\nquoted_status.place.country_code\nquoted_status.place.country\nquoted_status.place.contained_within\nquoted_status.place.bounding_box.type\nquoted_status.place.bounding_box.coordinates\n"
     ]
    }
   ],
   "source": [
    "# Get column names\n",
    "api_colnames_call = api.user_timeline(screen_name = 'TSNBobMcKenzie',count=200)\n",
    "json_data = [c._json for c in api_colnames_call]\n",
    "\n",
    "# create dataframe from JSON result\n",
    "api_colnames = pd.json_normalize(json_data)\n",
    "\n",
    "# print all column names\n",
    "for col in api_colnames.columns:\n",
    "    print(col)"
   ]
  },
  {
   "cell_type": "code",
   "execution_count": 75,
   "metadata": {},
   "outputs": [],
   "source": [
    "def get_user_tweets(screen_name):\n",
    "    #Twitter only allows access to a users most recent 3240 tweets with this method\n",
    "    #Adapted by: https://gist.github.com/yanofsky/5436496?fbclid=IwAR12gb56FOxTNI6R3SfiwpnbPpTvKLoeGR3kP0peQ1nGilcwsF8bR0LSVqE\n",
    "    \n",
    "    # Set up Twitter API access\n",
    "    # Define access keys and tokens\n",
    "    consumer_key = st.secrets['consumer_key']\n",
    "    consumer_secret = st.secrets['consumer_secret']\n",
    "    access_token = st.secrets['access_token']\n",
    "    access_token_secret = st.secrets['access_token_secret']\n",
    "\n",
    "    auth = tw.OAuthHandler(consumer_key, consumer_secret)\n",
    "    auth.set_access_token(access_token, access_token_secret)\n",
    "    api = tw.API(auth, wait_on_rate_limit = True)\n",
    "\n",
    "    #initialize a list to hold all the tweepy Tweets\n",
    "    alltweets = []  \n",
    "    \n",
    "    #make initial request for most recent tweets (200 is the maximum allowed count)\n",
    "    new_tweets = api.user_timeline(screen_name = screen_name,count=100)\n",
    "    \n",
    "    #save most recent tweets\n",
    "    alltweets.extend(new_tweets)\n",
    "    \n",
    "    #save the id of the oldest tweet less one\n",
    "    oldest = alltweets[-1].id - 1\n",
    "    \n",
    "    #keep grabbing tweets until there are no tweets left to grab\n",
    "    for i in range(2):\n",
    "            \n",
    "            #all subsiquent requests use the max_id param to prevent duplicates\n",
    "            new_tweets = api.user_timeline(screen_name = screen_name,count=100,max_id=oldest)\n",
    "            \n",
    "            #save most recent tweets\n",
    "            alltweets.extend(new_tweets)\n",
    "            \n",
    "            #update the id of the oldest tweet less one\n",
    "            oldest = alltweets[-1].id - 1\n",
    "            i +=1\n",
    "    \n",
    "    #transform the tweepy tweets into a 2D array that will populate the csv \n",
    "    outtweets = [[tweet.user.screen_name, tweet.id_str, tweet.created_at, tweet.text, tweet.retweet_count, tweet.favorite_count] for tweet in alltweets]\n",
    "\n",
    "    #transform 2D array into pandas dataframe\n",
    "    df_tweets = pd.DataFrame(data=outtweets, columns=['user_name', 'id_str', 'created_at', 'text', 'rt_count', 'fav_count'])\n",
    "\n",
    "    return df_tweets"
   ]
  },
  {
   "cell_type": "code",
   "execution_count": 35,
   "metadata": {},
   "outputs": [],
   "source": [
    "df = get_user_tweets(\"TSNBobMcKenzie\")"
   ]
  },
  {
   "cell_type": "code",
   "execution_count": 36,
   "metadata": {},
   "outputs": [
    {
     "output_type": "execute_result",
     "data": {
      "text/plain": [
       "        user_name               id_str          created_at  \\\n",
       "0  TSNBobMcKenzie  1412003822394875907 2021-07-05 11:01:59   \n",
       "1  TSNBobMcKenzie  1411704305309175815 2021-07-04 15:11:49   \n",
       "2  TSNBobMcKenzie  1411134094210129920 2021-07-03 01:26:00   \n",
       "3  TSNBobMcKenzie  1411121923979984896 2021-07-03 00:37:38   \n",
       "4  TSNBobMcKenzie  1411084623313002500 2021-07-02 22:09:25   \n",
       "\n",
       "                                                text  rt_count  fav_count  \n",
       "0  @barrysacks1 @provincesports @rayferrarotsn no...         0          0  \n",
       "1  Congrats to @MikeMcKenzie11 on completing his ...        12        186  \n",
       "2        @tsnjamesduthie First ballot Hall of Famer.         3        117  \n",
       "3     @MikeMcKenzie11 Everyone is a hockey expert. 😂         0         32  \n",
       "4  Substituted 8 hours of scouts interviews yeste...        25        682  "
      ],
      "text/html": "<div>\n<style scoped>\n    .dataframe tbody tr th:only-of-type {\n        vertical-align: middle;\n    }\n\n    .dataframe tbody tr th {\n        vertical-align: top;\n    }\n\n    .dataframe thead th {\n        text-align: right;\n    }\n</style>\n<table border=\"1\" class=\"dataframe\">\n  <thead>\n    <tr style=\"text-align: right;\">\n      <th></th>\n      <th>user_name</th>\n      <th>id_str</th>\n      <th>created_at</th>\n      <th>text</th>\n      <th>rt_count</th>\n      <th>fav_count</th>\n    </tr>\n  </thead>\n  <tbody>\n    <tr>\n      <th>0</th>\n      <td>TSNBobMcKenzie</td>\n      <td>1412003822394875907</td>\n      <td>2021-07-05 11:01:59</td>\n      <td>@barrysacks1 @provincesports @rayferrarotsn no...</td>\n      <td>0</td>\n      <td>0</td>\n    </tr>\n    <tr>\n      <th>1</th>\n      <td>TSNBobMcKenzie</td>\n      <td>1411704305309175815</td>\n      <td>2021-07-04 15:11:49</td>\n      <td>Congrats to @MikeMcKenzie11 on completing his ...</td>\n      <td>12</td>\n      <td>186</td>\n    </tr>\n    <tr>\n      <th>2</th>\n      <td>TSNBobMcKenzie</td>\n      <td>1411134094210129920</td>\n      <td>2021-07-03 01:26:00</td>\n      <td>@tsnjamesduthie First ballot Hall of Famer.</td>\n      <td>3</td>\n      <td>117</td>\n    </tr>\n    <tr>\n      <th>3</th>\n      <td>TSNBobMcKenzie</td>\n      <td>1411121923979984896</td>\n      <td>2021-07-03 00:37:38</td>\n      <td>@MikeMcKenzie11 Everyone is a hockey expert. 😂</td>\n      <td>0</td>\n      <td>32</td>\n    </tr>\n    <tr>\n      <th>4</th>\n      <td>TSNBobMcKenzie</td>\n      <td>1411084623313002500</td>\n      <td>2021-07-02 22:09:25</td>\n      <td>Substituted 8 hours of scouts interviews yeste...</td>\n      <td>25</td>\n      <td>682</td>\n    </tr>\n  </tbody>\n</table>\n</div>"
     },
     "metadata": {},
     "execution_count": 36
    }
   ],
   "source": [
    "df.head()"
   ]
  },
  {
   "cell_type": "code",
   "execution_count": 29,
   "metadata": {},
   "outputs": [
    {
     "output_type": "execute_result",
     "data": {
      "text/plain": [
       "(400, 5)"
      ]
     },
     "metadata": {},
     "execution_count": 29
    }
   ],
   "source": [
    "df.shape"
   ]
  },
  {
   "cell_type": "code",
   "execution_count": 84,
   "metadata": {},
   "outputs": [
    {
     "output_type": "execute_result",
     "data": {
      "text/plain": [
       "        account_id               name     type company\n",
       "0  @TSNBobMcKenzie       Bob McKenzie  insider     TSN\n",
       "1     @FriedgeHNIC  Elliotte Friedman  insider    HNIC\n",
       "2   @PierreVLeBrun      Pierre Lebrun  insider     TSN\n",
       "3    @DarrenDreger      Darren Dreger  insider     TSN\n",
       "4       @TSNHockey         TSN Hockey  company     TSN"
      ],
      "text/html": "<div>\n<style scoped>\n    .dataframe tbody tr th:only-of-type {\n        vertical-align: middle;\n    }\n\n    .dataframe tbody tr th {\n        vertical-align: top;\n    }\n\n    .dataframe thead th {\n        text-align: right;\n    }\n</style>\n<table border=\"1\" class=\"dataframe\">\n  <thead>\n    <tr style=\"text-align: right;\">\n      <th></th>\n      <th>account_id</th>\n      <th>name</th>\n      <th>type</th>\n      <th>company</th>\n    </tr>\n  </thead>\n  <tbody>\n    <tr>\n      <th>0</th>\n      <td>@TSNBobMcKenzie</td>\n      <td>Bob McKenzie</td>\n      <td>insider</td>\n      <td>TSN</td>\n    </tr>\n    <tr>\n      <th>1</th>\n      <td>@FriedgeHNIC</td>\n      <td>Elliotte Friedman</td>\n      <td>insider</td>\n      <td>HNIC</td>\n    </tr>\n    <tr>\n      <th>2</th>\n      <td>@PierreVLeBrun</td>\n      <td>Pierre Lebrun</td>\n      <td>insider</td>\n      <td>TSN</td>\n    </tr>\n    <tr>\n      <th>3</th>\n      <td>@DarrenDreger</td>\n      <td>Darren Dreger</td>\n      <td>insider</td>\n      <td>TSN</td>\n    </tr>\n    <tr>\n      <th>4</th>\n      <td>@TSNHockey</td>\n      <td>TSN Hockey</td>\n      <td>company</td>\n      <td>TSN</td>\n    </tr>\n  </tbody>\n</table>\n</div>"
     },
     "metadata": {},
     "execution_count": 84
    }
   ],
   "source": [
    "# Get list of Twitter accounts\n",
    "df_accounts = pd.read_csv('../assets/nhl_app_accounts.csv')\n",
    "df_accounts.head()"
   ]
  },
  {
   "cell_type": "code",
   "execution_count": 42,
   "metadata": {},
   "outputs": [],
   "source": [
    "df_accounts['clean_account_ids'] = df_accounts['account_id'].str.replace(\"@\", \"\")"
   ]
  },
  {
   "cell_type": "code",
   "execution_count": 43,
   "metadata": {},
   "outputs": [
    {
     "output_type": "execute_result",
     "data": {
      "text/plain": [
       "         account_id                    name      type    company  \\\n",
       "0   @TSNBobMcKenzie            Bob McKenzie   insider        TSN   \n",
       "1      @FriedgeHNIC       Elliotte Friedman   insider       HNIC   \n",
       "2    @PierreVLeBrun           Pierre Lebrun   insider        TSN   \n",
       "3     @DarrenDreger           Darren Dreger   insider        TSN   \n",
       "4        @TSNHockey              TSN Hockey   company        TSN   \n",
       "5    @rayferrarotsn             Ray Ferraro   insider        TSN   \n",
       "6     @CraigJButton            Craig Button  insinder        TSN   \n",
       "7      @hockeynight  Hockey Night in Canada   company       HNIC   \n",
       "8    @reporterchris          Chris Johnston   insider       HNIC   \n",
       "9        @JeffMarek              Jeff Marek   insider  Sportsnet   \n",
       "10   @SportsnetSpec            Mark Spector   insider  Sportsnet   \n",
       "\n",
       "   clean_account_ids  \n",
       "0     TSNBobMcKenzie  \n",
       "1        FriedgeHNIC  \n",
       "2      PierreVLeBrun  \n",
       "3       DarrenDreger  \n",
       "4          TSNHockey  \n",
       "5      rayferrarotsn  \n",
       "6       CraigJButton  \n",
       "7        hockeynight  \n",
       "8      reporterchris  \n",
       "9          JeffMarek  \n",
       "10     SportsnetSpec  "
      ],
      "text/html": "<div>\n<style scoped>\n    .dataframe tbody tr th:only-of-type {\n        vertical-align: middle;\n    }\n\n    .dataframe tbody tr th {\n        vertical-align: top;\n    }\n\n    .dataframe thead th {\n        text-align: right;\n    }\n</style>\n<table border=\"1\" class=\"dataframe\">\n  <thead>\n    <tr style=\"text-align: right;\">\n      <th></th>\n      <th>account_id</th>\n      <th>name</th>\n      <th>type</th>\n      <th>company</th>\n      <th>clean_account_ids</th>\n    </tr>\n  </thead>\n  <tbody>\n    <tr>\n      <th>0</th>\n      <td>@TSNBobMcKenzie</td>\n      <td>Bob McKenzie</td>\n      <td>insider</td>\n      <td>TSN</td>\n      <td>TSNBobMcKenzie</td>\n    </tr>\n    <tr>\n      <th>1</th>\n      <td>@FriedgeHNIC</td>\n      <td>Elliotte Friedman</td>\n      <td>insider</td>\n      <td>HNIC</td>\n      <td>FriedgeHNIC</td>\n    </tr>\n    <tr>\n      <th>2</th>\n      <td>@PierreVLeBrun</td>\n      <td>Pierre Lebrun</td>\n      <td>insider</td>\n      <td>TSN</td>\n      <td>PierreVLeBrun</td>\n    </tr>\n    <tr>\n      <th>3</th>\n      <td>@DarrenDreger</td>\n      <td>Darren Dreger</td>\n      <td>insider</td>\n      <td>TSN</td>\n      <td>DarrenDreger</td>\n    </tr>\n    <tr>\n      <th>4</th>\n      <td>@TSNHockey</td>\n      <td>TSN Hockey</td>\n      <td>company</td>\n      <td>TSN</td>\n      <td>TSNHockey</td>\n    </tr>\n    <tr>\n      <th>5</th>\n      <td>@rayferrarotsn</td>\n      <td>Ray Ferraro</td>\n      <td>insider</td>\n      <td>TSN</td>\n      <td>rayferrarotsn</td>\n    </tr>\n    <tr>\n      <th>6</th>\n      <td>@CraigJButton</td>\n      <td>Craig Button</td>\n      <td>insinder</td>\n      <td>TSN</td>\n      <td>CraigJButton</td>\n    </tr>\n    <tr>\n      <th>7</th>\n      <td>@hockeynight</td>\n      <td>Hockey Night in Canada</td>\n      <td>company</td>\n      <td>HNIC</td>\n      <td>hockeynight</td>\n    </tr>\n    <tr>\n      <th>8</th>\n      <td>@reporterchris</td>\n      <td>Chris Johnston</td>\n      <td>insider</td>\n      <td>HNIC</td>\n      <td>reporterchris</td>\n    </tr>\n    <tr>\n      <th>9</th>\n      <td>@JeffMarek</td>\n      <td>Jeff Marek</td>\n      <td>insider</td>\n      <td>Sportsnet</td>\n      <td>JeffMarek</td>\n    </tr>\n    <tr>\n      <th>10</th>\n      <td>@SportsnetSpec</td>\n      <td>Mark Spector</td>\n      <td>insider</td>\n      <td>Sportsnet</td>\n      <td>SportsnetSpec</td>\n    </tr>\n  </tbody>\n</table>\n</div>"
     },
     "metadata": {},
     "execution_count": 43
    }
   ],
   "source": [
    "df_accounts"
   ]
  },
  {
   "cell_type": "code",
   "execution_count": 48,
   "metadata": {},
   "outputs": [
    {
     "output_type": "execute_result",
     "data": {
      "text/plain": [
       "Empty DataFrame\n",
       "Columns: [user_name, id_str, created_at, text, rt_count, fav_count]\n",
       "Index: []"
      ],
      "text/html": "<div>\n<style scoped>\n    .dataframe tbody tr th:only-of-type {\n        vertical-align: middle;\n    }\n\n    .dataframe tbody tr th {\n        vertical-align: top;\n    }\n\n    .dataframe thead th {\n        text-align: right;\n    }\n</style>\n<table border=\"1\" class=\"dataframe\">\n  <thead>\n    <tr style=\"text-align: right;\">\n      <th></th>\n      <th>user_name</th>\n      <th>id_str</th>\n      <th>created_at</th>\n      <th>text</th>\n      <th>rt_count</th>\n      <th>fav_count</th>\n    </tr>\n  </thead>\n  <tbody>\n  </tbody>\n</table>\n</div>"
     },
     "metadata": {},
     "execution_count": 48
    }
   ],
   "source": [
    "df_user_tweets = pd.DataFrame(columns=['user_name', 'id_str', 'created_at', 'text', 'rt_count', 'fav_count'])\n",
    "df_user_tweets"
   ]
  },
  {
   "cell_type": "code",
   "execution_count": 45,
   "metadata": {},
   "outputs": [
    {
     "output_type": "execute_result",
     "data": {
      "text/plain": [
       "['TSNBobMcKenzie',\n",
       " 'FriedgeHNIC',\n",
       " 'PierreVLeBrun',\n",
       " 'DarrenDreger',\n",
       " 'TSNHockey',\n",
       " 'rayferrarotsn',\n",
       " 'CraigJButton',\n",
       " 'hockeynight',\n",
       " 'reporterchris',\n",
       " 'JeffMarek',\n",
       " 'SportsnetSpec']"
      ]
     },
     "metadata": {},
     "execution_count": 45
    }
   ],
   "source": [
    "list_accounts = df_accounts['clean_account_ids'].tolist()\n",
    "list_accounts"
   ]
  },
  {
   "cell_type": "code",
   "execution_count": 85,
   "metadata": {},
   "outputs": [
    {
     "output_type": "execute_result",
     "data": {
      "text/plain": [
       "         user_name               id_str          created_at  \\\n",
       "0   TSNBobMcKenzie  1412003822394875907 2021-07-05 11:01:59   \n",
       "1   TSNBobMcKenzie  1411704305309175815 2021-07-04 15:11:49   \n",
       "2   TSNBobMcKenzie  1411134094210129920 2021-07-03 01:26:00   \n",
       "3   TSNBobMcKenzie  1411121923979984896 2021-07-03 00:37:38   \n",
       "4   TSNBobMcKenzie  1411084623313002500 2021-07-02 22:09:25   \n",
       "..             ...                  ...                 ...   \n",
       "92   SportsnetSpec  1405018385851637760 2021-06-16 04:24:21   \n",
       "93   SportsnetSpec  1404857793669042179 2021-06-15 17:46:13   \n",
       "94   SportsnetSpec  1404856797895094272 2021-06-15 17:42:16   \n",
       "95   SportsnetSpec  1404684597988761607 2021-06-15 06:18:00   \n",
       "96   SportsnetSpec  1403726083866861572 2021-06-12 14:49:13   \n",
       "\n",
       "                                                 text  rt_count  fav_count  \n",
       "0   @barrysacks1 @provincesports @rayferrarotsn no...         0          0  \n",
       "1   Congrats to @MikeMcKenzie11 on completing his ...        12        186  \n",
       "2         @tsnjamesduthie First ballot Hall of Famer.         3        117  \n",
       "3      @MikeMcKenzie11 Everyone is a hockey expert. 😂         0         32  \n",
       "4   Substituted 8 hours of scouts interviews yeste...        25        682  \n",
       "..                                                ...       ...        ...  \n",
       "92  RT @Sportsnet: The Montreal Canadiens want to ...         2          0  \n",
       "93                             When does Latvia play?         0          6  \n",
       "94  RT @Sportsnet: In a season where the top-heavy...         1          0  \n",
       "95  RT @Sportsnet: In a season where the top-heavy...        15          0  \n",
       "96  For nearly 30 years Sport Central has given ki...         5         25  \n",
       "\n",
       "[3097 rows x 6 columns]"
      ],
      "text/html": "<div>\n<style scoped>\n    .dataframe tbody tr th:only-of-type {\n        vertical-align: middle;\n    }\n\n    .dataframe tbody tr th {\n        vertical-align: top;\n    }\n\n    .dataframe thead th {\n        text-align: right;\n    }\n</style>\n<table border=\"1\" class=\"dataframe\">\n  <thead>\n    <tr style=\"text-align: right;\">\n      <th></th>\n      <th>user_name</th>\n      <th>id_str</th>\n      <th>created_at</th>\n      <th>text</th>\n      <th>rt_count</th>\n      <th>fav_count</th>\n    </tr>\n  </thead>\n  <tbody>\n    <tr>\n      <th>0</th>\n      <td>TSNBobMcKenzie</td>\n      <td>1412003822394875907</td>\n      <td>2021-07-05 11:01:59</td>\n      <td>@barrysacks1 @provincesports @rayferrarotsn no...</td>\n      <td>0</td>\n      <td>0</td>\n    </tr>\n    <tr>\n      <th>1</th>\n      <td>TSNBobMcKenzie</td>\n      <td>1411704305309175815</td>\n      <td>2021-07-04 15:11:49</td>\n      <td>Congrats to @MikeMcKenzie11 on completing his ...</td>\n      <td>12</td>\n      <td>186</td>\n    </tr>\n    <tr>\n      <th>2</th>\n      <td>TSNBobMcKenzie</td>\n      <td>1411134094210129920</td>\n      <td>2021-07-03 01:26:00</td>\n      <td>@tsnjamesduthie First ballot Hall of Famer.</td>\n      <td>3</td>\n      <td>117</td>\n    </tr>\n    <tr>\n      <th>3</th>\n      <td>TSNBobMcKenzie</td>\n      <td>1411121923979984896</td>\n      <td>2021-07-03 00:37:38</td>\n      <td>@MikeMcKenzie11 Everyone is a hockey expert. 😂</td>\n      <td>0</td>\n      <td>32</td>\n    </tr>\n    <tr>\n      <th>4</th>\n      <td>TSNBobMcKenzie</td>\n      <td>1411084623313002500</td>\n      <td>2021-07-02 22:09:25</td>\n      <td>Substituted 8 hours of scouts interviews yeste...</td>\n      <td>25</td>\n      <td>682</td>\n    </tr>\n    <tr>\n      <th>...</th>\n      <td>...</td>\n      <td>...</td>\n      <td>...</td>\n      <td>...</td>\n      <td>...</td>\n      <td>...</td>\n    </tr>\n    <tr>\n      <th>92</th>\n      <td>SportsnetSpec</td>\n      <td>1405018385851637760</td>\n      <td>2021-06-16 04:24:21</td>\n      <td>RT @Sportsnet: The Montreal Canadiens want to ...</td>\n      <td>2</td>\n      <td>0</td>\n    </tr>\n    <tr>\n      <th>93</th>\n      <td>SportsnetSpec</td>\n      <td>1404857793669042179</td>\n      <td>2021-06-15 17:46:13</td>\n      <td>When does Latvia play?</td>\n      <td>0</td>\n      <td>6</td>\n    </tr>\n    <tr>\n      <th>94</th>\n      <td>SportsnetSpec</td>\n      <td>1404856797895094272</td>\n      <td>2021-06-15 17:42:16</td>\n      <td>RT @Sportsnet: In a season where the top-heavy...</td>\n      <td>1</td>\n      <td>0</td>\n    </tr>\n    <tr>\n      <th>95</th>\n      <td>SportsnetSpec</td>\n      <td>1404684597988761607</td>\n      <td>2021-06-15 06:18:00</td>\n      <td>RT @Sportsnet: In a season where the top-heavy...</td>\n      <td>15</td>\n      <td>0</td>\n    </tr>\n    <tr>\n      <th>96</th>\n      <td>SportsnetSpec</td>\n      <td>1403726083866861572</td>\n      <td>2021-06-12 14:49:13</td>\n      <td>For nearly 30 years Sport Central has given ki...</td>\n      <td>5</td>\n      <td>25</td>\n    </tr>\n  </tbody>\n</table>\n<p>3097 rows × 6 columns</p>\n</div>"
     },
     "metadata": {},
     "execution_count": 85
    }
   ],
   "source": [
    "df_user_tweets = pd.DataFrame()\n",
    "\n",
    "for i in range(len(list_accounts)):\n",
    "    new_user_tweets = get_user_tweets(list_accounts[i])\n",
    "    df_user_tweets = df_user_tweets.append(new_user_tweets)\n",
    "\n",
    "df_user_tweets = df_user_tweets.reset_index(drop=True)\n",
    "\n",
    "df_user_tweets"
   ]
  },
  {
   "cell_type": "code",
   "execution_count": 82,
   "metadata": {},
   "outputs": [
    {
     "output_type": "execute_result",
     "data": {
      "text/plain": [
       "rayferrarotsn     300\n",
       "reporterchris     300\n",
       "JeffMarek         300\n",
       "DarrenDreger      300\n",
       "CraigJButton      300\n",
       "PierreVLeBrun     300\n",
       "hockeynight       300\n",
       "FriedgeHNIC       300\n",
       "TSNBobMcKenzie    300\n",
       "TSNHockey         300\n",
       "SportsnetSpec      97\n",
       "Name: user_name, dtype: int64"
      ]
     },
     "metadata": {},
     "execution_count": 82
    }
   ],
   "source": [
    "# number of tweets per account\n",
    "df_user_tweets['user_name'].value_counts()\n",
    "\n",
    "#TODO: figure out why there are only 97 tweets for SportsnetSpec"
   ]
  },
  {
   "cell_type": "code",
   "execution_count": 88,
   "metadata": {},
   "outputs": [
    {
     "output_type": "execute_result",
     "data": {
      "text/plain": [
       "           user_name               id_str          created_at  \\\n",
       "0     TSNBobMcKenzie  1412003822394875907 2021-07-05 11:01:59   \n",
       "1     TSNBobMcKenzie  1411704305309175815 2021-07-04 15:11:49   \n",
       "2     TSNBobMcKenzie  1411134094210129920 2021-07-03 01:26:00   \n",
       "3     TSNBobMcKenzie  1411121923979984896 2021-07-03 00:37:38   \n",
       "4     TSNBobMcKenzie  1411084623313002500 2021-07-02 22:09:25   \n",
       "...              ...                  ...                 ...   \n",
       "3092   SportsnetSpec  1405018385851637760 2021-06-16 04:24:21   \n",
       "3093   SportsnetSpec  1404857793669042179 2021-06-15 17:46:13   \n",
       "3094   SportsnetSpec  1404856797895094272 2021-06-15 17:42:16   \n",
       "3095   SportsnetSpec  1404684597988761607 2021-06-15 06:18:00   \n",
       "3096   SportsnetSpec  1403726083866861572 2021-06-12 14:49:13   \n",
       "\n",
       "                                                   text  rt_count  fav_count  \n",
       "0     @barrysacks1 @provincesports @rayferrarotsn no...         0          0  \n",
       "1     Congrats to @MikeMcKenzie11 on completing his ...        12        186  \n",
       "2           @tsnjamesduthie First ballot Hall of Famer.         3        117  \n",
       "3        @MikeMcKenzie11 Everyone is a hockey expert. 😂         0         32  \n",
       "4     Substituted 8 hours of scouts interviews yeste...        25        682  \n",
       "...                                                 ...       ...        ...  \n",
       "3092  RT @Sportsnet: The Montreal Canadiens want to ...         2          0  \n",
       "3093                             When does Latvia play?         0          6  \n",
       "3094  RT @Sportsnet: In a season where the top-heavy...         1          0  \n",
       "3095  RT @Sportsnet: In a season where the top-heavy...        15          0  \n",
       "3096  For nearly 30 years Sport Central has given ki...         5         25  \n",
       "\n",
       "[3097 rows x 6 columns]"
      ],
      "text/html": "<div>\n<style scoped>\n    .dataframe tbody tr th:only-of-type {\n        vertical-align: middle;\n    }\n\n    .dataframe tbody tr th {\n        vertical-align: top;\n    }\n\n    .dataframe thead th {\n        text-align: right;\n    }\n</style>\n<table border=\"1\" class=\"dataframe\">\n  <thead>\n    <tr style=\"text-align: right;\">\n      <th></th>\n      <th>user_name</th>\n      <th>id_str</th>\n      <th>created_at</th>\n      <th>text</th>\n      <th>rt_count</th>\n      <th>fav_count</th>\n    </tr>\n  </thead>\n  <tbody>\n    <tr>\n      <th>0</th>\n      <td>TSNBobMcKenzie</td>\n      <td>1412003822394875907</td>\n      <td>2021-07-05 11:01:59</td>\n      <td>@barrysacks1 @provincesports @rayferrarotsn no...</td>\n      <td>0</td>\n      <td>0</td>\n    </tr>\n    <tr>\n      <th>1</th>\n      <td>TSNBobMcKenzie</td>\n      <td>1411704305309175815</td>\n      <td>2021-07-04 15:11:49</td>\n      <td>Congrats to @MikeMcKenzie11 on completing his ...</td>\n      <td>12</td>\n      <td>186</td>\n    </tr>\n    <tr>\n      <th>2</th>\n      <td>TSNBobMcKenzie</td>\n      <td>1411134094210129920</td>\n      <td>2021-07-03 01:26:00</td>\n      <td>@tsnjamesduthie First ballot Hall of Famer.</td>\n      <td>3</td>\n      <td>117</td>\n    </tr>\n    <tr>\n      <th>3</th>\n      <td>TSNBobMcKenzie</td>\n      <td>1411121923979984896</td>\n      <td>2021-07-03 00:37:38</td>\n      <td>@MikeMcKenzie11 Everyone is a hockey expert. 😂</td>\n      <td>0</td>\n      <td>32</td>\n    </tr>\n    <tr>\n      <th>4</th>\n      <td>TSNBobMcKenzie</td>\n      <td>1411084623313002500</td>\n      <td>2021-07-02 22:09:25</td>\n      <td>Substituted 8 hours of scouts interviews yeste...</td>\n      <td>25</td>\n      <td>682</td>\n    </tr>\n    <tr>\n      <th>...</th>\n      <td>...</td>\n      <td>...</td>\n      <td>...</td>\n      <td>...</td>\n      <td>...</td>\n      <td>...</td>\n    </tr>\n    <tr>\n      <th>3092</th>\n      <td>SportsnetSpec</td>\n      <td>1405018385851637760</td>\n      <td>2021-06-16 04:24:21</td>\n      <td>RT @Sportsnet: The Montreal Canadiens want to ...</td>\n      <td>2</td>\n      <td>0</td>\n    </tr>\n    <tr>\n      <th>3093</th>\n      <td>SportsnetSpec</td>\n      <td>1404857793669042179</td>\n      <td>2021-06-15 17:46:13</td>\n      <td>When does Latvia play?</td>\n      <td>0</td>\n      <td>6</td>\n    </tr>\n    <tr>\n      <th>3094</th>\n      <td>SportsnetSpec</td>\n      <td>1404856797895094272</td>\n      <td>2021-06-15 17:42:16</td>\n      <td>RT @Sportsnet: In a season where the top-heavy...</td>\n      <td>1</td>\n      <td>0</td>\n    </tr>\n    <tr>\n      <th>3095</th>\n      <td>SportsnetSpec</td>\n      <td>1404684597988761607</td>\n      <td>2021-06-15 06:18:00</td>\n      <td>RT @Sportsnet: In a season where the top-heavy...</td>\n      <td>15</td>\n      <td>0</td>\n    </tr>\n    <tr>\n      <th>3096</th>\n      <td>SportsnetSpec</td>\n      <td>1403726083866861572</td>\n      <td>2021-06-12 14:49:13</td>\n      <td>For nearly 30 years Sport Central has given ki...</td>\n      <td>5</td>\n      <td>25</td>\n    </tr>\n  </tbody>\n</table>\n<p>3097 rows × 6 columns</p>\n</div>"
     },
     "metadata": {},
     "execution_count": 88
    }
   ],
   "source": [
    "new_df = df_user_tweets.reset_index(drop=True)\n",
    "new_df"
   ]
  },
  {
   "cell_type": "code",
   "execution_count": null,
   "metadata": {},
   "outputs": [],
   "source": []
  }
 ]
}