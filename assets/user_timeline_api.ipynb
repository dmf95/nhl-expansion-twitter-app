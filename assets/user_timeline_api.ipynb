{
 "metadata": {
  "language_info": {
   "codemirror_mode": {
    "name": "ipython",
    "version": 3
   },
   "file_extension": ".py",
   "mimetype": "text/x-python",
   "name": "python",
   "nbconvert_exporter": "python",
   "pygments_lexer": "ipython3",
   "version": "3.7.9"
  },
  "orig_nbformat": 4,
  "kernelspec": {
   "name": "python3",
   "display_name": "Python 3.7.9 64-bit"
  },
  "interpreter": {
   "hash": "5406984f2edc0bdbc5cd7a494452e0fdfab4d1a2e1a90c33da82353fb1ebad85"
  }
 },
 "nbformat": 4,
 "nbformat_minor": 2,
 "cells": [
  {
   "cell_type": "code",
   "execution_count": 5,
   "metadata": {},
   "outputs": [],
   "source": [
    "import streamlit as st\n",
    "import tweepy as tw\n",
    "import pandas as pd"
   ]
  },
  {
   "cell_type": "code",
   "execution_count": 17,
   "metadata": {},
   "outputs": [
    {
     "output_type": "stream",
     "name": "stdout",
     "text": [
      "created_at\nid\nid_str\ntext\ntruncated\nsource\nin_reply_to_status_id\nin_reply_to_status_id_str\nin_reply_to_user_id\nin_reply_to_user_id_str\nin_reply_to_screen_name\ngeo\ncoordinates\nplace\ncontributors\nis_quote_status\nretweet_count\nfavorite_count\nfavorited\nretweeted\nlang\nentities.hashtags\nentities.symbols\nentities.user_mentions\nentities.urls\nuser.id\nuser.id_str\nuser.name\nuser.screen_name\nuser.location\nuser.description\nuser.url\nuser.entities.url.urls\nuser.entities.description.urls\nuser.protected\nuser.followers_count\nuser.friends_count\nuser.listed_count\nuser.created_at\nuser.favourites_count\nuser.utc_offset\nuser.time_zone\nuser.geo_enabled\nuser.verified\nuser.statuses_count\nuser.lang\nuser.contributors_enabled\nuser.is_translator\nuser.is_translation_enabled\nuser.profile_background_color\nuser.profile_background_image_url\nuser.profile_background_image_url_https\nuser.profile_background_tile\nuser.profile_image_url\nuser.profile_image_url_https\nuser.profile_banner_url\nuser.profile_link_color\nuser.profile_sidebar_border_color\nuser.profile_sidebar_fill_color\nuser.profile_text_color\nuser.profile_use_background_image\nuser.has_extended_profile\nuser.default_profile\nuser.default_profile_image\nuser.following\nuser.follow_request_sent\nuser.notifications\nuser.translator_type\nuser.withheld_in_countries\nquoted_status_id\nquoted_status_id_str\npossibly_sensitive\nquoted_status.created_at\nquoted_status.id\nquoted_status.id_str\nquoted_status.text\nquoted_status.truncated\nquoted_status.entities.hashtags\nquoted_status.entities.symbols\nquoted_status.entities.user_mentions\nquoted_status.entities.urls\nquoted_status.source\nquoted_status.in_reply_to_status_id\nquoted_status.in_reply_to_status_id_str\nquoted_status.in_reply_to_user_id\nquoted_status.in_reply_to_user_id_str\nquoted_status.in_reply_to_screen_name\nquoted_status.user.id\nquoted_status.user.id_str\nquoted_status.user.name\nquoted_status.user.screen_name\nquoted_status.user.location\nquoted_status.user.description\nquoted_status.user.url\nquoted_status.user.entities.description.urls\nquoted_status.user.protected\nquoted_status.user.followers_count\nquoted_status.user.friends_count\nquoted_status.user.listed_count\nquoted_status.user.created_at\nquoted_status.user.favourites_count\nquoted_status.user.utc_offset\nquoted_status.user.time_zone\nquoted_status.user.geo_enabled\nquoted_status.user.verified\nquoted_status.user.statuses_count\nquoted_status.user.lang\nquoted_status.user.contributors_enabled\nquoted_status.user.is_translator\nquoted_status.user.is_translation_enabled\nquoted_status.user.profile_background_color\nquoted_status.user.profile_background_image_url\nquoted_status.user.profile_background_image_url_https\nquoted_status.user.profile_background_tile\nquoted_status.user.profile_image_url\nquoted_status.user.profile_image_url_https\nquoted_status.user.profile_banner_url\nquoted_status.user.profile_link_color\nquoted_status.user.profile_sidebar_border_color\nquoted_status.user.profile_sidebar_fill_color\nquoted_status.user.profile_text_color\nquoted_status.user.profile_use_background_image\nquoted_status.user.has_extended_profile\nquoted_status.user.default_profile\nquoted_status.user.default_profile_image\nquoted_status.user.following\nquoted_status.user.follow_request_sent\nquoted_status.user.notifications\nquoted_status.user.translator_type\nquoted_status.user.withheld_in_countries\nquoted_status.geo\nquoted_status.coordinates\nquoted_status.place\nquoted_status.contributors\nquoted_status.is_quote_status\nquoted_status.retweet_count\nquoted_status.favorite_count\nquoted_status.favorited\nquoted_status.retweeted\nquoted_status.lang\nquoted_status.user.entities.url.urls\nquoted_status.possibly_sensitive\nquoted_status.entities.media\nquoted_status.extended_entities.media\nquoted_status.quoted_status_id\nquoted_status.quoted_status_id_str\nretweeted_status.created_at\nretweeted_status.id\nretweeted_status.id_str\nretweeted_status.text\nretweeted_status.truncated\nretweeted_status.entities.hashtags\nretweeted_status.entities.symbols\nretweeted_status.entities.user_mentions\nretweeted_status.entities.urls\nretweeted_status.source\nretweeted_status.in_reply_to_status_id\nretweeted_status.in_reply_to_status_id_str\nretweeted_status.in_reply_to_user_id\nretweeted_status.in_reply_to_user_id_str\nretweeted_status.in_reply_to_screen_name\nretweeted_status.user.id\nretweeted_status.user.id_str\nretweeted_status.user.name\nretweeted_status.user.screen_name\nretweeted_status.user.location\nretweeted_status.user.description\nretweeted_status.user.url\nretweeted_status.user.entities.url.urls\nretweeted_status.user.entities.description.urls\nretweeted_status.user.protected\nretweeted_status.user.followers_count\nretweeted_status.user.friends_count\nretweeted_status.user.listed_count\nretweeted_status.user.created_at\nretweeted_status.user.favourites_count\nretweeted_status.user.utc_offset\nretweeted_status.user.time_zone\nretweeted_status.user.geo_enabled\nretweeted_status.user.verified\nretweeted_status.user.statuses_count\nretweeted_status.user.lang\nretweeted_status.user.contributors_enabled\nretweeted_status.user.is_translator\nretweeted_status.user.is_translation_enabled\nretweeted_status.user.profile_background_color\nretweeted_status.user.profile_background_image_url\nretweeted_status.user.profile_background_image_url_https\nretweeted_status.user.profile_background_tile\nretweeted_status.user.profile_image_url\nretweeted_status.user.profile_image_url_https\nretweeted_status.user.profile_banner_url\nretweeted_status.user.profile_link_color\nretweeted_status.user.profile_sidebar_border_color\nretweeted_status.user.profile_sidebar_fill_color\nretweeted_status.user.profile_text_color\nretweeted_status.user.profile_use_background_image\nretweeted_status.user.has_extended_profile\nretweeted_status.user.default_profile\nretweeted_status.user.default_profile_image\nretweeted_status.user.following\nretweeted_status.user.follow_request_sent\nretweeted_status.user.notifications\nretweeted_status.user.translator_type\nretweeted_status.user.withheld_in_countries\nretweeted_status.geo\nretweeted_status.coordinates\nretweeted_status.place\nretweeted_status.contributors\nretweeted_status.is_quote_status\nretweeted_status.retweet_count\nretweeted_status.favorite_count\nretweeted_status.favorited\nretweeted_status.retweeted\nretweeted_status.possibly_sensitive\nretweeted_status.lang\nentities.media\nextended_entities.media\nretweeted_status.entities.media\nretweeted_status.extended_entities.media\nretweeted_status.quoted_status_id\nretweeted_status.quoted_status_id_str\nretweeted_status.quoted_status.created_at\nretweeted_status.quoted_status.id\nretweeted_status.quoted_status.id_str\nretweeted_status.quoted_status.text\nretweeted_status.quoted_status.truncated\nretweeted_status.quoted_status.entities.hashtags\nretweeted_status.quoted_status.entities.symbols\nretweeted_status.quoted_status.entities.user_mentions\nretweeted_status.quoted_status.entities.urls\nretweeted_status.quoted_status.source\nretweeted_status.quoted_status.in_reply_to_status_id\nretweeted_status.quoted_status.in_reply_to_status_id_str\nretweeted_status.quoted_status.in_reply_to_user_id\nretweeted_status.quoted_status.in_reply_to_user_id_str\nretweeted_status.quoted_status.in_reply_to_screen_name\nretweeted_status.quoted_status.user.id\nretweeted_status.quoted_status.user.id_str\nretweeted_status.quoted_status.user.name\nretweeted_status.quoted_status.user.screen_name\nretweeted_status.quoted_status.user.location\nretweeted_status.quoted_status.user.description\nretweeted_status.quoted_status.user.url\nretweeted_status.quoted_status.user.entities.url.urls\nretweeted_status.quoted_status.user.entities.description.urls\nretweeted_status.quoted_status.user.protected\nretweeted_status.quoted_status.user.followers_count\nretweeted_status.quoted_status.user.friends_count\nretweeted_status.quoted_status.user.listed_count\nretweeted_status.quoted_status.user.created_at\nretweeted_status.quoted_status.user.favourites_count\nretweeted_status.quoted_status.user.utc_offset\nretweeted_status.quoted_status.user.time_zone\nretweeted_status.quoted_status.user.geo_enabled\nretweeted_status.quoted_status.user.verified\nretweeted_status.quoted_status.user.statuses_count\nretweeted_status.quoted_status.user.lang\nretweeted_status.quoted_status.user.contributors_enabled\nretweeted_status.quoted_status.user.is_translator\nretweeted_status.quoted_status.user.is_translation_enabled\nretweeted_status.quoted_status.user.profile_background_color\nretweeted_status.quoted_status.user.profile_background_image_url\nretweeted_status.quoted_status.user.profile_background_image_url_https\nretweeted_status.quoted_status.user.profile_background_tile\nretweeted_status.quoted_status.user.profile_image_url\nretweeted_status.quoted_status.user.profile_image_url_https\nretweeted_status.quoted_status.user.profile_banner_url\nretweeted_status.quoted_status.user.profile_link_color\nretweeted_status.quoted_status.user.profile_sidebar_border_color\nretweeted_status.quoted_status.user.profile_sidebar_fill_color\nretweeted_status.quoted_status.user.profile_text_color\nretweeted_status.quoted_status.user.profile_use_background_image\nretweeted_status.quoted_status.user.has_extended_profile\nretweeted_status.quoted_status.user.default_profile\nretweeted_status.quoted_status.user.default_profile_image\nretweeted_status.quoted_status.user.following\nretweeted_status.quoted_status.user.follow_request_sent\nretweeted_status.quoted_status.user.notifications\nretweeted_status.quoted_status.user.translator_type\nretweeted_status.quoted_status.user.withheld_in_countries\nretweeted_status.quoted_status.geo\nretweeted_status.quoted_status.coordinates\nretweeted_status.quoted_status.place\nretweeted_status.quoted_status.contributors\nretweeted_status.quoted_status.is_quote_status\nretweeted_status.quoted_status.retweet_count\nretweeted_status.quoted_status.favorite_count\nretweeted_status.quoted_status.favorited\nretweeted_status.quoted_status.retweeted\nretweeted_status.quoted_status.lang\nretweeted_status.quoted_status.possibly_sensitive\nretweeted_status.place.id\nretweeted_status.place.url\nretweeted_status.place.place_type\nretweeted_status.place.name\nretweeted_status.place.full_name\nretweeted_status.place.country_code\nretweeted_status.place.country\nretweeted_status.place.contained_within\nretweeted_status.place.bounding_box.type\nretweeted_status.place.bounding_box.coordinates\nretweeted_status.quoted_status.place.id\nretweeted_status.quoted_status.place.url\nretweeted_status.quoted_status.place.place_type\nretweeted_status.quoted_status.place.name\nretweeted_status.quoted_status.place.full_name\nretweeted_status.quoted_status.place.country_code\nretweeted_status.quoted_status.place.country\nretweeted_status.quoted_status.place.contained_within\nretweeted_status.quoted_status.place.bounding_box.type\nretweeted_status.quoted_status.place.bounding_box.coordinates\nquoted_status.place.id\nquoted_status.place.url\nquoted_status.place.place_type\nquoted_status.place.name\nquoted_status.place.full_name\nquoted_status.place.country_code\nquoted_status.place.country\nquoted_status.place.contained_within\nquoted_status.place.bounding_box.type\nquoted_status.place.bounding_box.coordinates\n"
     ]
    }
   ],
   "source": [
    "# Get column names\n",
    "api_colnames_call = api.user_timeline(screen_name = 'TSNBobMcKenzie',count=200)\n",
    "json_data = [c._json for c in api_colnames_call]\n",
    "\n",
    "# create dataframe from JSON result\n",
    "api_colnames = pd.json_normalize(json_data)\n",
    "\n",
    "# print all column names\n",
    "for col in api_colnames.columns:\n",
    "    print(col)"
   ]
  },
  {
   "cell_type": "code",
   "execution_count": 14,
   "metadata": {},
   "outputs": [],
   "source": [
    "def get_user_tweets(screen_name):\n",
    "    #Twitter only allows access to a users most recent 3240 tweets with this method\n",
    "    #Adapted by: https://gist.github.com/yanofsky/5436496?fbclid=IwAR12gb56FOxTNI6R3SfiwpnbPpTvKLoeGR3kP0peQ1nGilcwsF8bR0LSVqE\n",
    "    \n",
    "    # Set up Twitter API access\n",
    "    # Define access keys and tokens\n",
    "    consumer_key = st.secrets['consumer_key']\n",
    "    consumer_secret = st.secrets['consumer_secret']\n",
    "    access_token = st.secrets['access_token']\n",
    "    access_token_secret = st.secrets['access_token_secret']\n",
    "\n",
    "    auth = tw.OAuthHandler(consumer_key, consumer_secret)\n",
    "    auth.set_access_token(access_token, access_token_secret)\n",
    "    api = tw.API(auth, wait_on_rate_limit = True)\n",
    "\n",
    "    #initialize a list to hold all the tweepy Tweets\n",
    "    alltweets = []  \n",
    "    \n",
    "    #make initial request for most recent tweets (200 is the maximum allowed count)\n",
    "    new_tweets = api.user_timeline(screen_name = screen_name,count=200)\n",
    "    \n",
    "    #save most recent tweets\n",
    "    alltweets.extend(new_tweets)\n",
    "    \n",
    "    #save the id of the oldest tweet less one\n",
    "    oldest = alltweets[-1].id - 1\n",
    "    \n",
    "    #keep grabbing tweets until there are no tweets left to grab\n",
    "    for i in range(1):\n",
    "            \n",
    "            #all subsiquent requests use the max_id param to prevent duplicates\n",
    "            new_tweets = api.user_timeline(screen_name = screen_name,count=200,max_id=oldest)\n",
    "            \n",
    "            #save most recent tweets\n",
    "            alltweets.extend(new_tweets)\n",
    "            \n",
    "            #update the id of the oldest tweet less one\n",
    "            oldest = alltweets[-1].id - 1\n",
    "            i +=1\n",
    "    \n",
    "    #transform the tweepy tweets into a 2D array that will populate the csv \n",
    "    outtweets = [[tweet.id_str, tweet.created_at, tweet.text, tweet.retweet_count, tweet.favorite_count] for tweet in alltweets]\n",
    "\n",
    "    #transform 2D array into pandas dataframe\n",
    "    df_tweets = pd.DataFrame(data=outtweets, columns=['id_str', 'created_at', 'text', 'rt_count', 'fav_count'])\n",
    "\n",
    "    return df_tweets"
   ]
  },
  {
   "cell_type": "code",
   "execution_count": 15,
   "metadata": {},
   "outputs": [],
   "source": [
    "df = get_user_tweets(\"TSNBobMcKenzie\")"
   ]
  },
  {
   "cell_type": "code",
   "execution_count": 10,
   "metadata": {},
   "outputs": [
    {
     "output_type": "execute_result",
     "data": {
      "text/plain": [
       "                id_str          created_at  \\\n",
       "0  1412003822394875907 2021-07-05 11:01:59   \n",
       "1  1411704305309175815 2021-07-04 15:11:49   \n",
       "2  1411134094210129920 2021-07-03 01:26:00   \n",
       "3  1411121923979984896 2021-07-03 00:37:38   \n",
       "4  1411084623313002500 2021-07-02 22:09:25   \n",
       "\n",
       "                                                text  rt_count  fav_count  \n",
       "0  @barrysacks1 @provincesports @rayferrarotsn no...         0          0  \n",
       "1  Congrats to @MikeMcKenzie11 on completing his ...        12        186  \n",
       "2        @tsnjamesduthie First ballot Hall of Famer.         3        117  \n",
       "3     @MikeMcKenzie11 Everyone is a hockey expert. 😂         0         32  \n",
       "4  Substituted 8 hours of scouts interviews yeste...        25        682  "
      ],
      "text/html": "<div>\n<style scoped>\n    .dataframe tbody tr th:only-of-type {\n        vertical-align: middle;\n    }\n\n    .dataframe tbody tr th {\n        vertical-align: top;\n    }\n\n    .dataframe thead th {\n        text-align: right;\n    }\n</style>\n<table border=\"1\" class=\"dataframe\">\n  <thead>\n    <tr style=\"text-align: right;\">\n      <th></th>\n      <th>id_str</th>\n      <th>created_at</th>\n      <th>text</th>\n      <th>rt_count</th>\n      <th>fav_count</th>\n    </tr>\n  </thead>\n  <tbody>\n    <tr>\n      <th>0</th>\n      <td>1412003822394875907</td>\n      <td>2021-07-05 11:01:59</td>\n      <td>@barrysacks1 @provincesports @rayferrarotsn no...</td>\n      <td>0</td>\n      <td>0</td>\n    </tr>\n    <tr>\n      <th>1</th>\n      <td>1411704305309175815</td>\n      <td>2021-07-04 15:11:49</td>\n      <td>Congrats to @MikeMcKenzie11 on completing his ...</td>\n      <td>12</td>\n      <td>186</td>\n    </tr>\n    <tr>\n      <th>2</th>\n      <td>1411134094210129920</td>\n      <td>2021-07-03 01:26:00</td>\n      <td>@tsnjamesduthie First ballot Hall of Famer.</td>\n      <td>3</td>\n      <td>117</td>\n    </tr>\n    <tr>\n      <th>3</th>\n      <td>1411121923979984896</td>\n      <td>2021-07-03 00:37:38</td>\n      <td>@MikeMcKenzie11 Everyone is a hockey expert. 😂</td>\n      <td>0</td>\n      <td>32</td>\n    </tr>\n    <tr>\n      <th>4</th>\n      <td>1411084623313002500</td>\n      <td>2021-07-02 22:09:25</td>\n      <td>Substituted 8 hours of scouts interviews yeste...</td>\n      <td>25</td>\n      <td>682</td>\n    </tr>\n  </tbody>\n</table>\n</div>"
     },
     "metadata": {},
     "execution_count": 10
    }
   ],
   "source": [
    "df.head()"
   ]
  },
  {
   "cell_type": "code",
   "execution_count": 16,
   "metadata": {},
   "outputs": [
    {
     "output_type": "execute_result",
     "data": {
      "text/plain": [
       "(400, 5)"
      ]
     },
     "metadata": {},
     "execution_count": 16
    }
   ],
   "source": [
    "df.shape"
   ]
  },
  {
   "cell_type": "code",
   "execution_count": null,
   "metadata": {},
   "outputs": [],
   "source": []
  }
 ]
}